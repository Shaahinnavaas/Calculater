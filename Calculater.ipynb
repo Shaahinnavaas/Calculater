{
  "nbformat": 4,
  "nbformat_minor": 0,
  "metadata": {
    "colab": {
      "provenance": [],
      "authorship_tag": "ABX9TyO3AH9J1YFczLEoaGSgyC4I"
    },
    "kernelspec": {
      "name": "python3",
      "display_name": "Python 3"
    },
    "language_info": {
      "name": "python"
    }
  },
  "cells": [
    {
      "cell_type": "markdown",
      "source": [
        "CALCULATER:\n",
        "This program calculates simple operations like addition, subtraction, multiplication and division."
      ],
      "metadata": {
        "id": "GISbJ9kLNGZb"
      }
    },
    {
      "cell_type": "code",
      "source": [
        "def add(x,y):\n",
        "    print(\"The sum of \",x,\" and \",y,\" is \", end=\" \")\n",
        "    return x+y\n",
        "def subtract(x,y):\n",
        "    print(\"The difference of \",x,\" and \",y,\" is \", end=\" \")\n",
        "    return x-y\n",
        "def multiply(x,y):\n",
        "    print(\"The product of \",x,\" and \",y,\" is \", end=\" \")\n",
        "    return x*y\n",
        "def divide(x,y):\n",
        "    print(\"The quotient of \",x,\" and \",y,\" is \", end=\" \")\n",
        "    return x/y\n",
        "def calculate():\n",
        "    a=int(input(\"Enter the 1st number :\"))\n",
        "    b=int(input(\"Enter the 2nd number :\"))\n",
        "    operation=input(\"Enter the operation : /n Options: \\n a)add b)subtract c)divide d)multiply \\n Note: Enter your option alone.\\n\" )\n",
        "    if(operation==\"a\"):\n",
        "           print(add(a,b))\n",
        "    elif(operation==\"b\"):\n",
        "        print(subtract(a,b))\n",
        "    elif(operation==\"c\"):\n",
        "        print(divide(a,b))\n",
        "    elif(operation==\"d\"):\n",
        "        print(multiply(a,b))\n",
        "    else:\n",
        "        return(\"invalid input\")\n",
        ""
      ],
      "metadata": {
        "id": "Ibaujv9PPOUp"
      },
      "execution_count": 14,
      "outputs": []
    },
    {
      "cell_type": "code",
      "source": [
        "wel=input(\"Do you want to calculate?  \\n Type yes or no  \\n\")\n",
        "while(wel==\"yes\"):\n",
        "  calculate()\n",
        "  wel=input(\"Do you want to continue calculate? \\n Type yes or no \\n\")\n",
        "if(wel==\"no\"):\n",
        "  print(\"exited\")"
      ],
      "metadata": {
        "colab": {
          "base_uri": "https://localhost:8080/"
        },
        "id": "4ye76G-DQs-d",
        "outputId": "c6652192-5707-4fea-a090-633affd9cd34"
      },
      "execution_count": 13,
      "outputs": [
        {
          "output_type": "stream",
          "name": "stdout",
          "text": [
            "Do you want to calculate?  \n",
            " Type yes or no  \n",
            "yes\n",
            "Enter the 1st number :67\n",
            "Enter the 2nd number :69\n",
            "Enter the operation : /n Options: \n",
            " a)add b)subtract c)divide d)multiply \n",
            " Note: Enter your option alone.\n",
            "d\n",
            "The product of  67  and  69  is  4623\n",
            "Do you want to continue calculate? \n",
            " Type yes or no \n",
            "no\n",
            "exited\n"
          ]
        }
      ]
    }
  ]
}